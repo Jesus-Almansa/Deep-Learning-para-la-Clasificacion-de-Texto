{
  "cells": [
    {
      "cell_type": "markdown",
      "metadata": {
        "id": "ktFg2jj3jTE6"
      },
      "source": [
        "# ACTIVIDAD 3: Deep Learning para Clasificación de Texto "
      ]
    },
    {
      "cell_type": "markdown",
      "metadata": {
        "id": "MZ-OuW5DiLJs"
      },
      "source": [
        "En esta actividad vamos a trabajar en clasificar textos. Se recorrerá todo el proceso desde traer el dataset hasta proceder a dicha clasificación. Durante la actividad se llevarán a cabo muchos procesos como la creación de un vocabulario, el uso de embeddings y la creación de modelos.\n",
        "\n",
        "Las cuestiones presentes en esta actividad están basadas en un Notebook creado por François Chollet, uno de los creadores de Keras y autor del libro \"Deep Learning with Python\". \n",
        "\n",
        "En este Notebook se trabaja con el dataset \"Newsgroup20\" que contiene aproximadamente 20000 mensajes que pertenecen a 20 categorías diferentes.\n",
        "\n",
        "El objetivo es entender los conceptos que se trabajan y ser capaz de hacer pequeñas experimentaciones para mejorar el Notebook creado."
      ]
    },
    {
      "cell_type": "code",
      "execution_count": 1,
      "metadata": {
        "id": "Ytpb1W-imjkg"
      },
      "outputs": [],
      "source": [
        "#Basado en:\n",
        "#https://keras.io/examples/nlp/pretrained_word_embeddings/"
      ]
    },
    {
      "cell_type": "markdown",
      "metadata": {
        "id": "hytURWLLjZvT"
      },
      "source": [
        "#Librerías"
      ]
    },
    {
      "cell_type": "code",
      "execution_count": 2,
      "metadata": {
        "id": "DbxRuvOwkzSs"
      },
      "outputs": [],
      "source": [
        "import numpy as np\n",
        "import tensorflow as tf\n",
        "from tensorflow import keras"
      ]
    },
    {
      "cell_type": "markdown",
      "metadata": {
        "id": "PXfYbCflkQYy"
      },
      "source": [
        "# Descarga de Datos"
      ]
    },
    {
      "cell_type": "code",
      "execution_count": 3,
      "metadata": {
        "id": "e-1ZhOf3lB_A"
      },
      "outputs": [],
      "source": [
        "data_path = keras.utils.get_file(\n",
        "    \"news20.tar.gz\",\n",
        "    \"http://www.cs.cmu.edu/afs/cs.cmu.edu/project/theo-20/www/data/news20.tar.gz\",\n",
        "    untar=True,\n",
        ")"
      ]
    },
    {
      "cell_type": "code",
      "execution_count": 4,
      "metadata": {
        "colab": {
          "base_uri": "https://localhost:8080/"
        },
        "id": "l3ygvoWhlCYj",
        "outputId": "7acf6a5d-1b50-4e7a-bdfd-5f2f622d8be1"
      },
      "outputs": [
        {
          "output_type": "stream",
          "name": "stdout",
          "text": [
            "Number of directories: 20\n",
            "Directory names: ['talk.politics.misc', 'rec.autos', 'sci.electronics', 'rec.sport.hockey', 'talk.politics.guns', 'misc.forsale', 'sci.med', 'comp.sys.ibm.pc.hardware', 'comp.os.ms-windows.misc', 'comp.sys.mac.hardware', 'rec.sport.baseball', 'rec.motorcycles', 'sci.space', 'soc.religion.christian', 'sci.crypt', 'comp.graphics', 'talk.politics.mideast', 'alt.atheism', 'talk.religion.misc', 'comp.windows.x']\n"
          ]
        }
      ],
      "source": [
        "import os\n",
        "import pathlib\n",
        "\n",
        "#Estructura de directorios del dataset\n",
        "data_dir = pathlib.Path(data_path).parent / \"20_newsgroup\"\n",
        "dirnames = os.listdir(data_dir)\n",
        "print(\"Number of directories:\", len(dirnames))\n",
        "print(\"Directory names:\", dirnames)"
      ]
    },
    {
      "cell_type": "code",
      "execution_count": 5,
      "metadata": {
        "colab": {
          "base_uri": "https://localhost:8080/"
        },
        "id": "OG8rjgOFlcaV",
        "outputId": "814e6fd3-c85b-4977-c01e-033e5e45f150"
      },
      "outputs": [
        {
          "output_type": "stream",
          "name": "stdout",
          "text": [
            "Number of files in comp.graphics: 1000\n",
            "Some example filenames: ['37917', '38287', '37261', '38991', '38782']\n"
          ]
        }
      ],
      "source": [
        "#Algunos archivos de la categoria \"com.graphics\"\n",
        "fnames = os.listdir(data_dir / \"comp.graphics\")\n",
        "print(\"Number of files in comp.graphics:\", len(fnames))\n",
        "print(\"Some example filenames:\", fnames[:5])"
      ]
    },
    {
      "cell_type": "code",
      "execution_count": 6,
      "metadata": {
        "colab": {
          "base_uri": "https://localhost:8080/"
        },
        "id": "8ox6s6z9lgps",
        "outputId": "8656e8ad-b4cc-44fc-f35d-5d85f18d5870"
      },
      "outputs": [
        {
          "output_type": "stream",
          "name": "stdout",
          "text": [
            "Path: cantaloupe.srv.cs.cmu.edu!rochester!udel!gatech!howland.reston.ans.net!newsserver.jvnc.net!castor.hahnemann.edu!hal.hahnemann.edu!brennan\n",
            "From: brennan@hal.hahnemann.edu\n",
            "Newsgroups: comp.graphics\n",
            "Subject: .GIFs on a Tek401x ??\n",
            "Date: 15 MAY 93 14:29:54 EST\n",
            "Organization: Hahnemann University\n",
            "Lines: 14\n",
            "Message-ID: <15MAY93.14295461@hal.hahnemann.edu>\n",
            "NNTP-Posting-Host: hal.hahnemann.edu\n",
            "\n",
            "\n",
            "      I was skimming through a few gophers and bumped into one at NIH\n",
            "   with a database that included images in .GIF format.  While I have\n",
            "   not yet worked out the kinks of getting the gopher client to call\n",
            "   an X viewer, I figure that the majority of the users here are not\n",
            "   in an X11 environment - instead using DOS and MS-Kermit.\n",
            "\n",
            "      With Kermit supporting Tek4010 emulation for graphics display,\n",
            "   does anyone know of a package that would allow a Tek to display a\n",
            "   .GIF image?  It would be of more use to the local population to\n",
            "   plug something of this sort in as the 'picture' command instead of\n",
            "   XView or XLoadImage ...\n",
            "\n",
            "      andrew.  (brennan@hal.hahnemann.edu)\n",
            "\n"
          ]
        }
      ],
      "source": [
        "#Ejemplo de un texto de la categoría \"com.graphics\"\n",
        "print(open(data_dir / \"comp.graphics\" / \"39625\").read())"
      ]
    },
    {
      "cell_type": "markdown",
      "metadata": {
        "id": "Tx3-RRHZik6N"
      },
      "source": [
        "<font color='green'>**Pregunta 1 (0.5 puntos): Escribe un texto de la categoría 'sci.electronics'**</font>"
      ]
    },
    {
      "cell_type": "code",
      "execution_count": 7,
      "metadata": {
        "colab": {
          "base_uri": "https://localhost:8080/"
        },
        "id": "mFQ3AuODij9h",
        "outputId": "873a8d53-ddbd-4901-b245-7d22a277e241"
      },
      "outputs": [
        {
          "output_type": "stream",
          "name": "stdout",
          "text": [
            "Ejemplo sci.electronics : 54333\n",
            "Path: cantaloupe.srv.cs.cmu.edu!magnesium.club.cc.cmu.edu!pitt.edu!dsinc!ub!acsu.buffalo.edu!ubvmsb.cc.buffalo.edu!v064mb9k\n",
            "From: v064mb9k@ubvmsb.cc.buffalo.edu (NEIL B. GANDLER)\n",
            "Newsgroups: sci.electronics\n",
            "Subject: Looking for a good book on Pspice 5.2\n",
            "Message-ID: <C65EGz.BG1@acsu.buffalo.edu>\n",
            "Date: 27 Apr 93 15:19:00 GMT\n",
            "Sender: nntp@acsu.buffalo.edu\n",
            "Organization: University at Buffalo\n",
            "Lines: 6\n",
            "News-Software: VAX/VMS VNEWS 1.41\n",
            "Nntp-Posting-Host: ubvmsb.cc.buffalo.edu\n",
            "\n",
            "\n",
            "\tI just got a copy of spice 5.2. I would like to know if there are\n",
            "any published books on the market yet and where I could get one. I would\n",
            "appreciate any help. Thank You\n",
            "\n",
            "\t\tNeil Gandler\n",
            "\n"
          ]
        }
      ],
      "source": [
        "fnames = os.listdir(data_dir / \"sci.electronics\")\n",
        "print(\"Ejemplo sci.electronics :\", fnames[0])\n",
        "print(open(data_dir / \"sci.electronics\" / fnames[0]).read())\n"
      ]
    },
    {
      "cell_type": "code",
      "execution_count": 8,
      "metadata": {
        "colab": {
          "base_uri": "https://localhost:8080/"
        },
        "id": "33Ay5U6blCd1",
        "outputId": "19baa075-0c5b-4ee6-e643-dcca3b83ce5b"
      },
      "outputs": [
        {
          "output_type": "stream",
          "name": "stdout",
          "text": [
            "Processing alt.atheism, 1000 files found\n",
            "Processing comp.graphics, 1000 files found\n",
            "Processing comp.os.ms-windows.misc, 1000 files found\n",
            "Processing comp.sys.ibm.pc.hardware, 1000 files found\n",
            "Processing comp.sys.mac.hardware, 1000 files found\n",
            "Processing comp.windows.x, 1000 files found\n",
            "Processing misc.forsale, 1000 files found\n",
            "Processing rec.autos, 1000 files found\n",
            "Processing rec.motorcycles, 1000 files found\n",
            "Processing rec.sport.baseball, 1000 files found\n",
            "Processing rec.sport.hockey, 1000 files found\n",
            "Processing sci.crypt, 1000 files found\n",
            "Processing sci.electronics, 1000 files found\n",
            "Processing sci.med, 1000 files found\n",
            "Processing sci.space, 1000 files found\n",
            "Processing soc.religion.christian, 997 files found\n",
            "Processing talk.politics.guns, 1000 files found\n",
            "Processing talk.politics.mideast, 1000 files found\n",
            "Processing talk.politics.misc, 1000 files found\n",
            "Processing talk.religion.misc, 1000 files found\n",
            "Classes: ['alt.atheism', 'comp.graphics', 'comp.os.ms-windows.misc', 'comp.sys.ibm.pc.hardware', 'comp.sys.mac.hardware', 'comp.windows.x', 'misc.forsale', 'rec.autos', 'rec.motorcycles', 'rec.sport.baseball', 'rec.sport.hockey', 'sci.crypt', 'sci.electronics', 'sci.med', 'sci.space', 'soc.religion.christian', 'talk.politics.guns', 'talk.politics.mideast', 'talk.politics.misc', 'talk.religion.misc']\n",
            "Number of samples: 19997\n"
          ]
        }
      ],
      "source": [
        "samples = []\n",
        "labels = []\n",
        "class_names = []\n",
        "class_index = 0\n",
        "for dirname in sorted(os.listdir(data_dir)):\n",
        "    class_names.append(dirname)\n",
        "    dirpath = data_dir / dirname\n",
        "    fnames = os.listdir(dirpath)\n",
        "    print(\"Processing %s, %d files found\" % (dirname, len(fnames)))\n",
        "    for fname in fnames:\n",
        "        fpath = dirpath / fname\n",
        "        f = open(fpath, encoding=\"latin-1\")\n",
        "        content = f.read()\n",
        "        lines = content.split(\"\\n\")\n",
        "        lines = lines[10:]\n",
        "        content = \"\\n\".join(lines)\n",
        "        samples.append(content)\n",
        "        labels.append(class_index)\n",
        "    class_index += 1\n",
        "\n",
        "print(\"Classes:\", class_names)\n",
        "print(\"Number of samples:\", len(samples))"
      ]
    },
    {
      "cell_type": "markdown",
      "metadata": {
        "id": "n2pmvE6gMcxT"
      },
      "source": [
        "# Mezclando los datos para separarlos en Traning y Test"
      ]
    },
    {
      "cell_type": "code",
      "execution_count": 9,
      "metadata": {
        "id": "DYX7x-k_lCgZ"
      },
      "outputs": [],
      "source": [
        "# Shuffle the data\n",
        "seed = 1337\n",
        "rng = np.random.RandomState(seed)\n",
        "rng.shuffle(samples)\n",
        "rng = np.random.RandomState(seed)\n",
        "rng.shuffle(labels)\n",
        "\n",
        "# Extract a training & validation split\n",
        "validation_split = 0.2\n",
        "num_validation_samples = int(validation_split * len(samples))\n",
        "train_samples = samples[:-num_validation_samples]\n",
        "val_samples = samples[-num_validation_samples:]\n",
        "train_labels = labels[:-num_validation_samples]\n",
        "val_labels = labels[-num_validation_samples:]"
      ]
    },
    {
      "cell_type": "markdown",
      "metadata": {
        "id": "uMrE0T4wMj09"
      },
      "source": [
        "<font color='green'>**Pregunta 2 (0.5 puntos): ¿Por qué mezclamos los datos antes de separarlos en entrenamiento y validación?**</font>"
      ]
    },
    {
      "cell_type": "markdown",
      "metadata": {
        "id": "fZkWK2z_gF7V"
      },
      "source": [
        "Encontramos dos principales motivos:\n",
        "\n",
        "\n",
        "Facilitar la validación cruzada: La mezcla de datos es esencial para aplicar técnicas como la validación cruzada, asegurando que cada subconjunto de entrenamiento y validación contenga una representación equilibrada y aleatoria de los datos.\n",
        "\n",
        "Evitar sesgos en la distribución de los datos: Al mezclar los datos, garantizamos que no haya un orden específico que pueda sesgar la distribución de los datos en los conjuntos de entrenamiento."
      ]
    },
    {
      "cell_type": "markdown",
      "metadata": {
        "id": "FCPGWsdDjlIS"
      },
      "source": [
        "<font color='green'>**Pregunta 3 (1 punto): ¿Por qué estás seguro que en la \n",
        "división aleatoria cada muestra coincide con su etiqueta correcta?**</font>"
      ]
    },
    {
      "cell_type": "markdown",
      "metadata": {
        "id": "IO_T4m27gLKs"
      },
      "source": [
        "A traves de la semilla 'seed' se utiliza para generar los instancias separadas de 'np.random.RandomState', asi nos aseguramos que tengan las mismas permutaciones aleatorias tanto para las muestra 'samples' como para las etiquetas 'labels'. Luego en la línea rng.shuffle(samples), se realiza la mezcla aleatoria de las muestras utilizando la primera instancia de RandomState.\n",
        "\n",
        "El código consigue que cada muestra coincida con su etiqueta correcta después de la división aleatoria."
      ]
    },
    {
      "cell_type": "markdown",
      "metadata": {
        "id": "IktOtKfpNx8E"
      },
      "source": [
        "# Tokenización de las palabras con TextVectorization "
      ]
    },
    {
      "cell_type": "code",
      "execution_count": 10,
      "metadata": {
        "id": "QjHgQPX8lCjO"
      },
      "outputs": [],
      "source": [
        "from tensorflow.keras.layers import TextVectorization\n",
        "vectorizer = TextVectorization(max_tokens=20000, output_sequence_length=200)\n",
        "text_ds = tf.data.Dataset.from_tensor_slices(train_samples).batch(128)\n",
        "vectorizer.adapt(text_ds)"
      ]
    },
    {
      "cell_type": "code",
      "execution_count": 11,
      "metadata": {
        "colab": {
          "base_uri": "https://localhost:8080/"
        },
        "id": "vIWC37s5smZ4",
        "outputId": "111de9c5-310a-4e3a-9bef-a2259fa8cc69"
      },
      "outputs": [
        {
          "output_type": "execute_result",
          "data": {
            "text/plain": [
              "['', '[UNK]', 'the', 'to', 'of']"
            ]
          },
          "metadata": {},
          "execution_count": 11
        }
      ],
      "source": [
        "vectorizer.get_vocabulary()[:5]"
      ]
    },
    {
      "cell_type": "code",
      "execution_count": 12,
      "metadata": {
        "colab": {
          "base_uri": "https://localhost:8080/"
        },
        "id": "vit8TPqTvmwS",
        "outputId": "7ff06d95-6da0-46a4-d360-4a503a792e38"
      },
      "outputs": [
        {
          "output_type": "execute_result",
          "data": {
            "text/plain": [
              "20000"
            ]
          },
          "metadata": {},
          "execution_count": 12
        }
      ],
      "source": [
        "len(vectorizer.get_vocabulary())"
      ]
    },
    {
      "cell_type": "markdown",
      "metadata": {
        "id": "Yttb9K8vssAz"
      },
      "source": [
        "<font color='green'>**Pregunta 4 (2 puntos): En la construcción del vocabulario hemos limitado el número de tokens a 20.000 ¿Podrías indicar el número de token diferentes o tamaño del vocabulario sin limitar el número de tokens? Es decir, ¿Cuántas palabras diferentes existen en los documentos procesados como instancias?**</font>"
      ]
    },
    {
      "cell_type": "code",
      "execution_count": 13,
      "metadata": {
        "colab": {
          "base_uri": "https://localhost:8080/"
        },
        "id": "SZIgywwYquDE",
        "outputId": "4e5611e2-625a-4965-d9ee-285597102489"
      },
      "outputs": [
        {
          "output_type": "stream",
          "name": "stdout",
          "text": [
            "156962\n"
          ]
        }
      ],
      "source": [
        "# TextVectorization convierte cadenas de texto en listas de tokens y después convierte estas listas de tokens en listas de números\n",
        "# Crear una instancia de TextVectorization. Sin límite en el número de palabras que se tienen en cuenta. Todas las secuencias de salida se rellenan hasta 200. Si son más largas se truncan.\n",
        "vectorizer_2 = TextVectorization(max_tokens=None, output_sequence_length=200)\n",
        "\n",
        "# Objeto Dataset de TensorFlow en batches de 128.\n",
        "text_ds_2 = tf.data.Dataset.from_tensor_slices(train_samples).batch(128)\n",
        "\n",
        "# Crear un índice de palabras basado en las palabras que encuentran en los datos de entrenamiento.\n",
        "# 'adapt' para hacer que el vectorizador \"aprenda\" el vocabulario de los datos de entrenamiento (contar la frecuencia de cada palabra en los datos y luego asignar un índice a cada palabra)\n",
        "vectorizer_2.adapt(text_ds_2)\n",
        "\n",
        "print(len(vectorizer_2.get_vocabulary()))"
      ]
    },
    {
      "cell_type": "markdown",
      "metadata": {
        "id": "2O-FXA9wPVkg"
      },
      "source": [
        "# Viendo la salida de Vectorizer"
      ]
    },
    {
      "cell_type": "code",
      "execution_count": 14,
      "metadata": {
        "colab": {
          "base_uri": "https://localhost:8080/"
        },
        "id": "rseIF0fLmyJ0",
        "outputId": "450347db-d493-47f1-cd0a-f5d1ca41a0c2"
      },
      "outputs": [
        {
          "output_type": "execute_result",
          "data": {
            "text/plain": [
              "array([   2, 3550, 1807,   15,    2, 5708])"
            ]
          },
          "metadata": {},
          "execution_count": 14
        }
      ],
      "source": [
        "output = vectorizer([[\"the cat sat on the mat\"]])\n",
        "output.numpy()[0, :6]"
      ]
    },
    {
      "cell_type": "code",
      "execution_count": 15,
      "metadata": {
        "colab": {
          "base_uri": "https://localhost:8080/"
        },
        "id": "Wsr4AQtBFArV",
        "outputId": "af2cef10-aef1-407e-8ecc-a2292777f8f0"
      },
      "outputs": [
        {
          "output_type": "execute_result",
          "data": {
            "text/plain": [
              "<tf.Tensor: shape=(1, 200), dtype=int64, numpy=\n",
              "array([[   2, 3550, 1807,   15,    2, 5708,    0,    0,    0,    0,    0,\n",
              "           0,    0,    0,    0,    0,    0,    0,    0,    0,    0,    0,\n",
              "           0,    0,    0,    0,    0,    0,    0,    0,    0,    0,    0,\n",
              "           0,    0,    0,    0,    0,    0,    0,    0,    0,    0,    0,\n",
              "           0,    0,    0,    0,    0,    0,    0,    0,    0,    0,    0,\n",
              "           0,    0,    0,    0,    0,    0,    0,    0,    0,    0,    0,\n",
              "           0,    0,    0,    0,    0,    0,    0,    0,    0,    0,    0,\n",
              "           0,    0,    0,    0,    0,    0,    0,    0,    0,    0,    0,\n",
              "           0,    0,    0,    0,    0,    0,    0,    0,    0,    0,    0,\n",
              "           0,    0,    0,    0,    0,    0,    0,    0,    0,    0,    0,\n",
              "           0,    0,    0,    0,    0,    0,    0,    0,    0,    0,    0,\n",
              "           0,    0,    0,    0,    0,    0,    0,    0,    0,    0,    0,\n",
              "           0,    0,    0,    0,    0,    0,    0,    0,    0,    0,    0,\n",
              "           0,    0,    0,    0,    0,    0,    0,    0,    0,    0,    0,\n",
              "           0,    0,    0,    0,    0,    0,    0,    0,    0,    0,    0,\n",
              "           0,    0,    0,    0,    0,    0,    0,    0,    0,    0,    0,\n",
              "           0,    0,    0,    0,    0,    0,    0,    0,    0,    0,    0,\n",
              "           0,    0,    0,    0,    0,    0,    0,    0,    0,    0,    0,\n",
              "           0,    0]])>"
            ]
          },
          "metadata": {},
          "execution_count": 15
        }
      ],
      "source": [
        "output"
      ]
    },
    {
      "cell_type": "code",
      "execution_count": 16,
      "metadata": {
        "id": "SL5ag8UamzwL"
      },
      "outputs": [],
      "source": [
        "voc = vectorizer.get_vocabulary()\n",
        "word_index = dict(zip(voc, range(len(voc))))"
      ]
    },
    {
      "cell_type": "code",
      "execution_count": 17,
      "metadata": {
        "colab": {
          "base_uri": "https://localhost:8080/"
        },
        "id": "08v8SKcsn3lf",
        "outputId": "38c73318-f002-4947-efdb-17e6172fb5ea"
      },
      "outputs": [
        {
          "output_type": "execute_result",
          "data": {
            "text/plain": [
              "[2, 3550, 1807, 15, 2, 5708]"
            ]
          },
          "metadata": {},
          "execution_count": 17
        }
      ],
      "source": [
        "test = [\"the\", \"cat\", \"sat\", \"on\", \"the\", \"mat\"]\n",
        "[word_index[w] for w in test]"
      ]
    },
    {
      "cell_type": "markdown",
      "metadata": {
        "id": "rWxZ5Z0sF_d8"
      },
      "source": [
        "<font color='green'>**Pregunta 5 (1 punto): Arriba tenemos la codificación de la frase \"the cat sat on the mat\". Imagina la siguiente situación. La salida de vectorizer() para codificar los tokens [\"El\", \"gato\", \"está\", \"sobre\", \"el\", \"tejado\"] es la siguiente [1, 121, 405, 1, 45, 4561]. Si cada uno de los valores indica el índice en el que se encuentra cada palabra en el array creado para codificarla. ¿Podría ser correcta esta salida?**</font>"
      ]
    },
    {
      "cell_type": "markdown",
      "metadata": {
        "id": "lZ1HP2VngTdA"
      },
      "source": [
        "No podria ser correcta, por que despues de convertir a minusculas todas las palabras \"El\" y \"el\" tendran que tener el mismo número. Ya que tienen la misma frecuencia.\n",
        "Está mal en este caso ya que en la primera posición \"El\" tiene el número 1 y en la quinta posición \"el\" tiene el 45."
      ]
    },
    {
      "cell_type": "markdown",
      "metadata": {
        "id": "1eBhadrvOTNZ"
      },
      "source": [
        "# Tokenización de los datos de entrenamiento y validación"
      ]
    },
    {
      "cell_type": "code",
      "execution_count": 18,
      "metadata": {
        "id": "W26LUr2dKTOj"
      },
      "outputs": [],
      "source": [
        "x_train = vectorizer(np.array([[s] for s in train_samples])).numpy()\n",
        "x_val = vectorizer(np.array([[s] for s in val_samples])).numpy()\n",
        "\n",
        "y_train = np.array(train_labels)\n",
        "y_val = np.array(val_labels)"
      ]
    },
    {
      "cell_type": "markdown",
      "metadata": {
        "id": "TGvYD56WlhaA"
      },
      "source": [
        "# Creación del modelo con un embedding hecho a mano y con redes neuronales convolucionales"
      ]
    },
    {
      "cell_type": "markdown",
      "metadata": {
        "id": "tI0TYBbvHNwr"
      },
      "source": [
        "Aunque las Redes Neuronales Convolucionales se desarrollaron originalmente para procesamiento de imágenes, se pueden aplicar a problemas de procesamiento de lenguaje natural gracias a su capacidad para capturar patrones locales y globales en los datos de entrada.\n",
        "\n",
        "Previa a la alimentación de las capas convolucionales, vamos a incluir una capa de Embedding. Como hemos visto en clase, un embedding de palabras se refiere a una representación vectorial densa de una palabra en un espacio de características continuo de alta dimensión. Como resultado del embedding vamos capturar la semántica de las palabras de manera que palabras similares tengan representaciones vectoriales similares.\n",
        "\n",
        "A continuación se incluye la creación de un modelo con un embedding hecho a mano y usando  Redes Neuronales Convolucionales"
      ]
    },
    {
      "cell_type": "code",
      "execution_count": 19,
      "metadata": {
        "id": "AT8KYdHaOh31"
      },
      "outputs": [],
      "source": [
        "modeloEmbeddingManualConvolucionales = keras.models.Sequential()\n",
        "modeloEmbeddingManualConvolucionales.add(keras.layers.Embedding(20000, 10, input_length=200))\n",
        "modeloEmbeddingManualConvolucionales.add(keras.layers.Conv1D(128, 5, activation=\"relu\"))\n",
        "modeloEmbeddingManualConvolucionales.add(keras.layers.MaxPooling1D(5))\n",
        "modeloEmbeddingManualConvolucionales.add(keras.layers.Conv1D(128, 5, activation=\"relu\"))\n",
        "modeloEmbeddingManualConvolucionales.add(keras.layers.MaxPooling1D(5))\n",
        "modeloEmbeddingManualConvolucionales.add(keras.layers.Conv1D(128, 5, activation=\"relu\"))\n",
        "modeloEmbeddingManualConvolucionales.add(keras.layers.GlobalMaxPooling1D())\n",
        "modeloEmbeddingManualConvolucionales.add(keras.layers.Dense(128, activation='relu'))\n",
        "modeloEmbeddingManualConvolucionales.add(keras.layers.Dropout(0.3))\n",
        "modeloEmbeddingManualConvolucionales.add(keras.layers.Dense(20, activation='softmax'))"
      ]
    },
    {
      "cell_type": "code",
      "execution_count": 20,
      "metadata": {
        "colab": {
          "base_uri": "https://localhost:8080/"
        },
        "id": "xtx8L9hJm-lQ",
        "outputId": "a1dcedaf-c26d-4492-e36c-c22e934263db"
      },
      "outputs": [
        {
          "output_type": "stream",
          "name": "stdout",
          "text": [
            "Epoch 1/20\n",
            "125/125 [==============================] - 24s 152ms/step - loss: 2.9411 - acc: 0.0741 - val_loss: 2.7193 - val_acc: 0.1120\n",
            "Epoch 2/20\n",
            "125/125 [==============================] - 13s 107ms/step - loss: 2.5532 - acc: 0.1169 - val_loss: 2.4033 - val_acc: 0.1410\n",
            "Epoch 3/20\n",
            "125/125 [==============================] - 13s 106ms/step - loss: 2.2962 - acc: 0.1674 - val_loss: 2.2048 - val_acc: 0.1838\n",
            "Epoch 4/20\n",
            "125/125 [==============================] - 8s 61ms/step - loss: 2.1002 - acc: 0.2133 - val_loss: 2.0442 - val_acc: 0.2463\n",
            "Epoch 5/20\n",
            "125/125 [==============================] - 8s 68ms/step - loss: 1.9287 - acc: 0.2654 - val_loss: 2.0032 - val_acc: 0.2483\n",
            "Epoch 6/20\n",
            "125/125 [==============================] - 6s 46ms/step - loss: 1.7346 - acc: 0.3364 - val_loss: 1.7199 - val_acc: 0.3663\n",
            "Epoch 7/20\n",
            "125/125 [==============================] - 6s 46ms/step - loss: 1.5266 - acc: 0.4142 - val_loss: 1.5942 - val_acc: 0.4144\n",
            "Epoch 8/20\n",
            "125/125 [==============================] - 5s 38ms/step - loss: 1.3387 - acc: 0.4912 - val_loss: 1.4864 - val_acc: 0.4694\n",
            "Epoch 9/20\n",
            "125/125 [==============================] - 4s 29ms/step - loss: 1.1758 - acc: 0.5604 - val_loss: 1.4450 - val_acc: 0.5066\n",
            "Epoch 10/20\n",
            "125/125 [==============================] - 4s 36ms/step - loss: 1.0674 - acc: 0.6134 - val_loss: 1.4188 - val_acc: 0.5304\n",
            "Epoch 11/20\n",
            "125/125 [==============================] - 3s 24ms/step - loss: 0.9602 - acc: 0.6571 - val_loss: 1.4141 - val_acc: 0.5519\n",
            "Epoch 12/20\n",
            "125/125 [==============================] - 2s 18ms/step - loss: 0.8727 - acc: 0.6930 - val_loss: 1.5461 - val_acc: 0.5436\n",
            "Epoch 13/20\n",
            "125/125 [==============================] - 3s 22ms/step - loss: 0.7906 - acc: 0.7237 - val_loss: 1.6500 - val_acc: 0.5241\n",
            "Epoch 14/20\n",
            "125/125 [==============================] - 2s 15ms/step - loss: 0.7370 - acc: 0.7469 - val_loss: 1.6063 - val_acc: 0.5209\n",
            "Epoch 15/20\n",
            "125/125 [==============================] - 4s 30ms/step - loss: 0.6674 - acc: 0.7759 - val_loss: 1.6746 - val_acc: 0.5546\n",
            "Epoch 16/20\n",
            "125/125 [==============================] - 2s 17ms/step - loss: 0.6159 - acc: 0.7960 - val_loss: 1.6857 - val_acc: 0.5476\n",
            "Epoch 17/20\n",
            "125/125 [==============================] - 2s 15ms/step - loss: 0.5650 - acc: 0.8133 - val_loss: 1.6031 - val_acc: 0.6024\n",
            "Epoch 18/20\n",
            "125/125 [==============================] - 2s 14ms/step - loss: 0.5217 - acc: 0.8277 - val_loss: 2.3251 - val_acc: 0.5269\n",
            "Epoch 19/20\n",
            "125/125 [==============================] - 2s 14ms/step - loss: 0.4904 - acc: 0.8410 - val_loss: 1.8236 - val_acc: 0.5791\n",
            "Epoch 20/20\n",
            "125/125 [==============================] - 2s 14ms/step - loss: 0.4432 - acc: 0.8544 - val_loss: 1.7534 - val_acc: 0.6024\n"
          ]
        },
        {
          "output_type": "execute_result",
          "data": {
            "text/plain": [
              "<keras.callbacks.History at 0x7f44cef6ad10>"
            ]
          },
          "metadata": {},
          "execution_count": 20
        }
      ],
      "source": [
        "modeloEmbeddingManualConvolucionales.compile(optimizer='adam', loss='binary_crossentropy', metrics=['accuracy'])\n",
        "modeloEmbeddingManualConvolucionales.compile(loss=\"sparse_categorical_crossentropy\", optimizer=\"rmsprop\", metrics=[\"acc\"])\n",
        "modeloEmbeddingManualConvolucionales.fit(x_train, y_train, batch_size=128, epochs=20, validation_data=(x_val, y_val))"
      ]
    },
    {
      "cell_type": "markdown",
      "metadata": {
        "id": "KW8w16t_IrHY"
      },
      "source": [
        "<font color='green'>**Pregunta 6 (1 punto): ¿Por qué usamos convoluciones de 1 dimensión para procesar texto?**</font>"
      ]
    },
    {
      "cell_type": "markdown",
      "metadata": {
        "id": "7H8RJNrHgjAU"
      },
      "source": [
        "<font color='green'>Tu respuesta aqui:\n",
        "\n",
        "Las convoluciones de 1D son especialmente útiles para extraer características relevantes en datos secuenciales, como el texto, ya que pueden detectar patrones locales en diferentes posiciones dentro de la secuencia.   \n",
        "Facilita el aprendizaje de características relevantes para tareas de clasificación, generación de texto y otras aplicaciones de procesamiento de lenguaje natural. Estas capas son capaces de capturar patrones locales en secuencias de texto, como frases, n-gramas y combinaciones de palabras adyacentes."
      ]
    },
    {
      "cell_type": "markdown",
      "metadata": {
        "id": "q3QVIb84Olda"
      },
      "source": [
        "#Creación del modelo con un embedding hecho a mano con redes neuronales clásicas\n",
        "\n",
        "\n",
        "\n"
      ]
    },
    {
      "cell_type": "markdown",
      "metadata": {
        "id": "3olUvuUVLc4U"
      },
      "source": [
        "<font color='green'>**Pregunta 7 (2 puntos): Crea un nuevo modelo partiendo del model anterior pero en lugar de Redes Neuronales Convolucionales vamos a utilizar Redes Neuronales Clásicas. Para ello, tras la capa Embedding añade una capa Flatten, una capa densa de 512 neuronas con función de activación relu y una capa Dropout de regulización al 30%. Por último, no olvides incluir la capa de salida con tantas neuronas como clases haya y la función de activación softmax.**</font>"
      ]
    },
    {
      "cell_type": "code",
      "execution_count": 21,
      "metadata": {
        "id": "UxNDppZYTLOb"
      },
      "outputs": [],
      "source": [
        "modeloEmbeddingManualClasicas = keras.models.Sequential()\n",
        "modeloEmbeddingManualClasicas.add(keras.layers.Embedding(20000, 10, input_length=200))\n",
        "modeloEmbeddingManualClasicas.add(keras.layers.Flatten())\n",
        "modeloEmbeddingManualClasicas.add(keras.layers.Dense(512, activation='relu'))\n",
        "modeloEmbeddingManualClasicas.add(keras.layers.Dropout(0.3))\n",
        "modeloEmbeddingManualClasicas.add(keras.layers.Dense(20, activation='softmax'))"
      ]
    },
    {
      "cell_type": "code",
      "execution_count": 22,
      "metadata": {
        "colab": {
          "base_uri": "https://localhost:8080/"
        },
        "id": "qD_hqn2sOlda",
        "outputId": "f03c260d-9e82-4f5c-a11e-c5a087e84981"
      },
      "outputs": [
        {
          "output_type": "stream",
          "name": "stdout",
          "text": [
            "Epoch 1/20\n",
            "125/125 [==============================] - 15s 111ms/step - loss: 2.8893 - acc: 0.1016 - val_loss: 2.6418 - val_acc: 0.1693\n",
            "Epoch 2/20\n",
            "125/125 [==============================] - 11s 88ms/step - loss: 2.2649 - acc: 0.2617 - val_loss: 2.0488 - val_acc: 0.3043\n",
            "Epoch 3/20\n",
            "125/125 [==============================] - 10s 81ms/step - loss: 1.6624 - acc: 0.4679 - val_loss: 1.6545 - val_acc: 0.4289\n",
            "Epoch 4/20\n",
            "125/125 [==============================] - 6s 47ms/step - loss: 1.1755 - acc: 0.6406 - val_loss: 1.3555 - val_acc: 0.5446\n",
            "Epoch 5/20\n",
            "125/125 [==============================] - 7s 52ms/step - loss: 0.8006 - acc: 0.7673 - val_loss: 1.1773 - val_acc: 0.6014\n",
            "Epoch 6/20\n",
            "125/125 [==============================] - 3s 21ms/step - loss: 0.5506 - acc: 0.8429 - val_loss: 1.1016 - val_acc: 0.6332\n",
            "Epoch 7/20\n",
            "125/125 [==============================] - 3s 27ms/step - loss: 0.3916 - acc: 0.8881 - val_loss: 1.0486 - val_acc: 0.6552\n",
            "Epoch 8/20\n",
            "125/125 [==============================] - 5s 39ms/step - loss: 0.2903 - acc: 0.9171 - val_loss: 1.0497 - val_acc: 0.6722\n",
            "Epoch 9/20\n",
            "125/125 [==============================] - 3s 20ms/step - loss: 0.2209 - acc: 0.9363 - val_loss: 1.0664 - val_acc: 0.6797\n",
            "Epoch 10/20\n",
            "125/125 [==============================] - 3s 24ms/step - loss: 0.1832 - acc: 0.9469 - val_loss: 1.1179 - val_acc: 0.6737\n",
            "Epoch 11/20\n",
            "125/125 [==============================] - 3s 25ms/step - loss: 0.1573 - acc: 0.9531 - val_loss: 1.1202 - val_acc: 0.6812\n",
            "Epoch 12/20\n",
            "125/125 [==============================] - 3s 21ms/step - loss: 0.1366 - acc: 0.9567 - val_loss: 1.1421 - val_acc: 0.6879\n",
            "Epoch 13/20\n",
            "125/125 [==============================] - 2s 13ms/step - loss: 0.1197 - acc: 0.9594 - val_loss: 1.2069 - val_acc: 0.6802\n",
            "Epoch 14/20\n",
            "125/125 [==============================] - 1s 10ms/step - loss: 0.1112 - acc: 0.9609 - val_loss: 1.2084 - val_acc: 0.6842\n",
            "Epoch 15/20\n",
            "125/125 [==============================] - 2s 13ms/step - loss: 0.1036 - acc: 0.9642 - val_loss: 1.2405 - val_acc: 0.6787\n",
            "Epoch 16/20\n",
            "125/125 [==============================] - 2s 14ms/step - loss: 0.0972 - acc: 0.9642 - val_loss: 1.2516 - val_acc: 0.6852\n",
            "Epoch 17/20\n",
            "125/125 [==============================] - 2s 14ms/step - loss: 0.0918 - acc: 0.9655 - val_loss: 1.2939 - val_acc: 0.6757\n",
            "Epoch 18/20\n",
            "125/125 [==============================] - 2s 14ms/step - loss: 0.0911 - acc: 0.9664 - val_loss: 1.3034 - val_acc: 0.6862\n",
            "Epoch 19/20\n",
            "125/125 [==============================] - 2s 12ms/step - loss: 0.0880 - acc: 0.9671 - val_loss: 1.3049 - val_acc: 0.6809\n",
            "Epoch 20/20\n",
            "125/125 [==============================] - 2s 18ms/step - loss: 0.0833 - acc: 0.9669 - val_loss: 1.3246 - val_acc: 0.6859\n",
            "Model: \"sequential_1\"\n",
            "_________________________________________________________________\n",
            " Layer (type)                Output Shape              Param #   \n",
            "=================================================================\n",
            " embedding_1 (Embedding)     (None, 200, 10)           200000    \n",
            "                                                                 \n",
            " flatten (Flatten)           (None, 2000)              0         \n",
            "                                                                 \n",
            " dense_2 (Dense)             (None, 512)               1024512   \n",
            "                                                                 \n",
            " dropout_1 (Dropout)         (None, 512)               0         \n",
            "                                                                 \n",
            " dense_3 (Dense)             (None, 20)                10260     \n",
            "                                                                 \n",
            "=================================================================\n",
            "Total params: 1,234,772\n",
            "Trainable params: 1,234,772\n",
            "Non-trainable params: 0\n",
            "_________________________________________________________________\n",
            "None\n"
          ]
        }
      ],
      "source": [
        "modeloEmbeddingManualClasicas.compile(optimizer='adam', loss='binary_crossentropy', metrics=['accuracy'])\n",
        "modeloEmbeddingManualClasicas.compile(loss=\"sparse_categorical_crossentropy\", optimizer=\"rmsprop\", metrics=[\"acc\"])\n",
        "modeloEmbeddingManualClasicas.fit(x_train, y_train, batch_size=128, epochs=20, validation_data=(x_val, y_val))\n",
        "print(modeloEmbeddingManualClasicas.summary())"
      ]
    },
    {
      "cell_type": "markdown",
      "metadata": {
        "id": "27PnPdfGMgQA"
      },
      "source": [
        "Tras hacer este experimento, es posible que pase una cosa curiosa y es que la red totalmente conectada tenga un mejor comportamiento que la convolucional. \n",
        "En general, las redes neuronales convolucionales tienden a superar a las totalmente conectadas en la mayoría de los problemas de este tipo debido a su capacidad para capturar patrones espaciales y posicionales en los datos de entrada. Dicho esto, en algunos casos, una red neuronal clásica podría superar a una convolucional en un problema de procesamiento de lenguaje natural, especialmente si el conjunto de datos es pequeño y las características relevantes son relativamente simples. En este caso, la mayoría de las categorías puede ser que tengan un vocabulario específico y esa pueda ser una de las razones. \n",
        "\n",
        "\n",
        "\n"
      ]
    },
    {
      "cell_type": "markdown",
      "metadata": {
        "id": "DZL7wt0r_9Os"
      },
      "source": [
        "#Creación del modelo con el embedding GloVe y redes neuronales convolucionales\n"
      ]
    },
    {
      "cell_type": "markdown",
      "metadata": {
        "id": "XAvOGIybNH-C"
      },
      "source": [
        "Esta vez, en vez de crear nosotros mismos el embedding, vamos a utilizar Glove. Los vectores de palabras generados por GloVe capturan las relaciones semánticas y sintácticas entre las palabras en un corpus de texto mucho más grande que el nuestro. "
      ]
    },
    {
      "cell_type": "code",
      "execution_count": 23,
      "metadata": {
        "colab": {
          "base_uri": "https://localhost:8080/"
        },
        "id": "xkzAfY0v72EM",
        "outputId": "b3d71028-94ca-4263-87f2-835b439a8bcb"
      },
      "outputs": [
        {
          "output_type": "stream",
          "name": "stdout",
          "text": [
            "--2023-06-06 13:36:44--  http://nlp.stanford.edu/data/glove.6B.zip\n",
            "Resolving nlp.stanford.edu (nlp.stanford.edu)... 171.64.67.140\n",
            "Connecting to nlp.stanford.edu (nlp.stanford.edu)|171.64.67.140|:80... connected.\n",
            "HTTP request sent, awaiting response... 302 Found\n",
            "Location: https://nlp.stanford.edu/data/glove.6B.zip [following]\n",
            "--2023-06-06 13:36:44--  https://nlp.stanford.edu/data/glove.6B.zip\n",
            "Connecting to nlp.stanford.edu (nlp.stanford.edu)|171.64.67.140|:443... connected.\n",
            "HTTP request sent, awaiting response... 301 Moved Permanently\n",
            "Location: https://downloads.cs.stanford.edu/nlp/data/glove.6B.zip [following]\n",
            "--2023-06-06 13:36:45--  https://downloads.cs.stanford.edu/nlp/data/glove.6B.zip\n",
            "Resolving downloads.cs.stanford.edu (downloads.cs.stanford.edu)... 171.64.64.22\n",
            "Connecting to downloads.cs.stanford.edu (downloads.cs.stanford.edu)|171.64.64.22|:443... connected.\n",
            "HTTP request sent, awaiting response... 200 OK\n",
            "Length: 862182613 (822M) [application/zip]\n",
            "Saving to: ‘glove.6B.zip.2’\n",
            "\n",
            "glove.6B.zip.2      100%[===================>] 822.24M  5.10MB/s    in 2m 41s  \n",
            "\n",
            "2023-06-06 13:39:27 (5.12 MB/s) - ‘glove.6B.zip.2’ saved [862182613/862182613]\n",
            "\n",
            "replace glove.6B.50d.txt? [y]es, [n]o, [A]ll, [N]one, [r]ename: y\n",
            "replace glove.6B.100d.txt? [y]es, [n]o, [A]ll, [N]one, [r]ename: A\n"
          ]
        }
      ],
      "source": [
        "!wget http://nlp.stanford.edu/data/glove.6B.zip\n",
        "!unzip -q glove.6B.zip"
      ]
    },
    {
      "cell_type": "code",
      "source": [],
      "metadata": {
        "id": "1e8Rr_L49y7w"
      },
      "execution_count": null,
      "outputs": []
    },
    {
      "cell_type": "markdown",
      "metadata": {
        "id": "xOf0LXFuOJBG"
      },
      "source": [
        "<font color='green'>**Pregunta 8 (1 puntos): \tEl embedding que usa la actividad es el glove.6B. ¿De dónde se han obtenido los textos que se han usado para entrenarlo? ¿Cántos WordVectors lo componen? ¿De cuántas dimensiones tiene versiones? Puedes ayudarte del link https://nlp.stanford.edu/projects/glove/ para buscar la información**</font>\n",
        "\n",
        "\n"
      ]
    },
    {
      "cell_type": "markdown",
      "metadata": {
        "id": "C5Ht7roJai9D"
      },
      "source": [
        "<font color='green'>Tu respuesta aqui:\n",
        "\n",
        " El corpus de texto utilizado para entrenar los vectores de palabras proviene de Wikipedia 2014 y Gigaword 5, que es un conjunto de noticias en inglés.  \n",
        " Consta de 400.000 vectores de palabras únicos.  \n",
        " Tiene versiones en 4 dimensiones distintas: 50, 100, 200 y 300.  \n",
        " "
      ]
    },
    {
      "cell_type": "code",
      "execution_count": 24,
      "metadata": {
        "colab": {
          "base_uri": "https://localhost:8080/"
        },
        "id": "m-bSZXrqoAEg",
        "outputId": "cf1f1f5f-1d58-4139-f062-d9feb9c072ba"
      },
      "outputs": [
        {
          "output_type": "stream",
          "name": "stdout",
          "text": [
            "Found 400000 word vectors.\n"
          ]
        }
      ],
      "source": [
        "path_to_glove_file = os.path.join(\n",
        "    os.path.expanduser(\"~\"), \".keras/datasets/glove.6B.100d.txt\"\n",
        ")\n",
        "path_to_glove_file = \"glove.6B.100d.txt\"\n",
        "embeddings_index = {}\n",
        "with open(path_to_glove_file) as f:\n",
        "    for line in f:\n",
        "        word, coefs = line.split(maxsplit=1)\n",
        "        coefs = np.fromstring(coefs, \"f\", sep=\" \")\n",
        "        embeddings_index[word] = coefs\n",
        "\n",
        "print(\"Found %s word vectors.\" % len(embeddings_index))"
      ]
    },
    {
      "cell_type": "markdown",
      "metadata": {
        "id": "UdKbdVax2e_l"
      },
      "source": [
        "Creamos la capa Embedding de keras. Se trata de una matrix numpy donde el valor de cada posición corresponde con el vector pre-entreneado del vocabulario tras el vectorizer"
      ]
    },
    {
      "cell_type": "code",
      "execution_count": 25,
      "metadata": {
        "colab": {
          "base_uri": "https://localhost:8080/"
        },
        "id": "R2Tov2B6oBuF",
        "outputId": "6d9ea497-8f95-42b9-f001-db7c8f736835"
      },
      "outputs": [
        {
          "output_type": "stream",
          "name": "stdout",
          "text": [
            "Converted 18025 words (1975 misses)\n"
          ]
        }
      ],
      "source": [
        "num_tokens = len(voc) + 2\n",
        "embedding_dim = 100\n",
        "hits = 0\n",
        "misses = 0\n",
        "\n",
        "# Prepare embedding matrix\n",
        "embedding_matrix = np.zeros((num_tokens, embedding_dim))\n",
        "for word, i in word_index.items():\n",
        "    embedding_vector = embeddings_index.get(word)\n",
        "    if embedding_vector is not None:\n",
        "        # Words not found in embedding index will be all-zeros.\n",
        "        # This includes the representation for \"padding\" and \"OOV\"\n",
        "        embedding_matrix[i] = embedding_vector\n",
        "        hits += 1\n",
        "    else:\n",
        "        misses += 1\n",
        "print(\"Converted %d words (%d misses)\" % (hits, misses))"
      ]
    },
    {
      "cell_type": "markdown",
      "metadata": {
        "id": "akWSH27b21AY"
      },
      "source": [
        "Cargamos el embedding como una capa keras. Al poner trainable=False nos quedamos con los valores del modelo pre-entrenado, es decir, no actualizamos estos valores a lo largo del entrenamiento"
      ]
    },
    {
      "cell_type": "code",
      "execution_count": 26,
      "metadata": {
        "id": "w40nHAAPoD0J"
      },
      "outputs": [],
      "source": [
        "from tensorflow.keras.layers import Embedding\n",
        "\n",
        "embedding_layer = Embedding(\n",
        "    num_tokens,\n",
        "    embedding_dim,\n",
        "    embeddings_initializer=keras.initializers.Constant(embedding_matrix),\n",
        "    trainable=False,\n",
        ")"
      ]
    },
    {
      "cell_type": "code",
      "execution_count": 27,
      "metadata": {
        "colab": {
          "base_uri": "https://localhost:8080/"
        },
        "id": "UoPboJ6l_9Ot",
        "outputId": "4314e7b0-4bf7-4cd2-dd63-fdc5ce2aa814"
      },
      "outputs": [
        {
          "output_type": "stream",
          "name": "stdout",
          "text": [
            "Model: \"model\"\n",
            "_________________________________________________________________\n",
            " Layer (type)                Output Shape              Param #   \n",
            "=================================================================\n",
            " input_1 (InputLayer)        [(None, None)]            0         \n",
            "                                                                 \n",
            " embedding_2 (Embedding)     (None, None, 100)         2000200   \n",
            "                                                                 \n",
            " conv1d_3 (Conv1D)           (None, None, 128)         64128     \n",
            "                                                                 \n",
            " max_pooling1d_2 (MaxPooling  (None, None, 128)        0         \n",
            " 1D)                                                             \n",
            "                                                                 \n",
            " conv1d_4 (Conv1D)           (None, None, 128)         82048     \n",
            "                                                                 \n",
            " max_pooling1d_3 (MaxPooling  (None, None, 128)        0         \n",
            " 1D)                                                             \n",
            "                                                                 \n",
            " conv1d_5 (Conv1D)           (None, None, 128)         82048     \n",
            "                                                                 \n",
            " global_max_pooling1d_1 (Glo  (None, 128)              0         \n",
            " balMaxPooling1D)                                                \n",
            "                                                                 \n",
            " dense_4 (Dense)             (None, 128)               16512     \n",
            "                                                                 \n",
            " dropout_2 (Dropout)         (None, 128)               0         \n",
            "                                                                 \n",
            " dense_5 (Dense)             (None, 20)                2580      \n",
            "                                                                 \n",
            "=================================================================\n",
            "Total params: 2,247,516\n",
            "Trainable params: 247,316\n",
            "Non-trainable params: 2,000,200\n",
            "_________________________________________________________________\n"
          ]
        }
      ],
      "source": [
        "from tensorflow.keras import layers\n",
        "\n",
        "int_sequences_input = keras.Input(shape=(None,), dtype=\"int64\")\n",
        "embedded_sequences = embedding_layer(int_sequences_input)\n",
        "x = layers.Conv1D(128, 5, activation=\"relu\")(embedded_sequences)\n",
        "x = layers.MaxPooling1D(5)(x)\n",
        "x = layers.Conv1D(128, 5, activation=\"relu\")(x)\n",
        "x = layers.MaxPooling1D(5)(x)\n",
        "x = layers.Conv1D(128, 5, activation=\"relu\")(x)\n",
        "x = layers.GlobalMaxPooling1D()(x)\n",
        "x = layers.Dense(128, activation=\"relu\")(x)\n",
        "x = layers.Dropout(0.5)(x)\n",
        "preds = layers.Dense(len(class_names), activation=\"softmax\")(x)\n",
        "modelEmbeddingGloveConvolucionales = keras.Model(int_sequences_input, preds)\n",
        "modelEmbeddingGloveConvolucionales.summary()\n"
      ]
    },
    {
      "cell_type": "code",
      "execution_count": 28,
      "metadata": {
        "colab": {
          "base_uri": "https://localhost:8080/"
        },
        "id": "nllcCJY__9Ot",
        "outputId": "fd837ffb-ffb3-4d06-f2a4-63462b2cf0d1"
      },
      "outputs": [
        {
          "output_type": "stream",
          "name": "stdout",
          "text": [
            "Epoch 1/20\n",
            "125/125 [==============================] - 4s 15ms/step - loss: 2.6758 - acc: 0.1388 - val_loss: 2.1008 - val_acc: 0.2883\n",
            "Epoch 2/20\n",
            "125/125 [==============================] - 1s 9ms/step - loss: 1.9680 - acc: 0.3240 - val_loss: 1.5544 - val_acc: 0.4739\n",
            "Epoch 3/20\n",
            "125/125 [==============================] - 1s 8ms/step - loss: 1.5272 - acc: 0.4752 - val_loss: 1.2915 - val_acc: 0.5509\n",
            "Epoch 4/20\n",
            "125/125 [==============================] - 1s 8ms/step - loss: 1.2786 - acc: 0.5586 - val_loss: 1.1659 - val_acc: 0.5876\n",
            "Epoch 5/20\n",
            "125/125 [==============================] - 1s 8ms/step - loss: 1.1282 - acc: 0.6123 - val_loss: 1.1706 - val_acc: 0.6052\n",
            "Epoch 6/20\n",
            "125/125 [==============================] - 1s 9ms/step - loss: 0.9859 - acc: 0.6572 - val_loss: 1.1390 - val_acc: 0.6067\n",
            "Epoch 7/20\n",
            "125/125 [==============================] - 1s 9ms/step - loss: 0.8701 - acc: 0.6990 - val_loss: 1.1884 - val_acc: 0.6034\n",
            "Epoch 8/20\n",
            "125/125 [==============================] - 1s 9ms/step - loss: 0.7805 - acc: 0.7223 - val_loss: 1.1611 - val_acc: 0.6164\n",
            "Epoch 9/20\n",
            "125/125 [==============================] - 1s 10ms/step - loss: 0.6815 - acc: 0.7586 - val_loss: 1.0527 - val_acc: 0.6514\n",
            "Epoch 10/20\n",
            "125/125 [==============================] - 1s 10ms/step - loss: 0.6072 - acc: 0.7863 - val_loss: 1.1095 - val_acc: 0.6679\n",
            "Epoch 11/20\n",
            "125/125 [==============================] - 1s 8ms/step - loss: 0.5299 - acc: 0.8140 - val_loss: 1.0357 - val_acc: 0.6752\n",
            "Epoch 12/20\n",
            "125/125 [==============================] - 1s 9ms/step - loss: 0.4615 - acc: 0.8372 - val_loss: 1.0497 - val_acc: 0.6842\n",
            "Epoch 13/20\n",
            "125/125 [==============================] - 1s 9ms/step - loss: 0.4110 - acc: 0.8562 - val_loss: 1.0679 - val_acc: 0.6877\n",
            "Epoch 14/20\n",
            "125/125 [==============================] - 1s 9ms/step - loss: 0.3391 - acc: 0.8820 - val_loss: 1.1614 - val_acc: 0.6919\n",
            "Epoch 15/20\n",
            "125/125 [==============================] - 1s 8ms/step - loss: 0.3159 - acc: 0.8919 - val_loss: 1.2216 - val_acc: 0.6799\n",
            "Epoch 16/20\n",
            "125/125 [==============================] - 1s 8ms/step - loss: 0.2778 - acc: 0.9077 - val_loss: 1.2172 - val_acc: 0.6849\n",
            "Epoch 17/20\n",
            "125/125 [==============================] - 1s 8ms/step - loss: 0.2612 - acc: 0.9132 - val_loss: 1.1422 - val_acc: 0.6984\n",
            "Epoch 18/20\n",
            "125/125 [==============================] - 1s 9ms/step - loss: 0.2170 - acc: 0.9266 - val_loss: 1.6895 - val_acc: 0.6367\n",
            "Epoch 19/20\n",
            "125/125 [==============================] - 1s 8ms/step - loss: 0.2003 - acc: 0.9343 - val_loss: 1.8133 - val_acc: 0.6584\n",
            "Epoch 20/20\n",
            "125/125 [==============================] - 1s 10ms/step - loss: 0.1941 - acc: 0.9357 - val_loss: 1.3284 - val_acc: 0.7012\n",
            "125/125 [==============================] - 1s 3ms/step\n"
          ]
        }
      ],
      "source": [
        "modelEmbeddingGloveConvolucionales.compile(    loss=\"sparse_categorical_crossentropy\", optimizer=\"rmsprop\", metrics=[\"acc\"])\n",
        "modelEmbeddingGloveConvolucionales.fit(x_train, y_train, batch_size=128, epochs=20, validation_data=(x_val, y_val))\n",
        "predictions = modelEmbeddingGloveConvolucionales.predict(x_val)"
      ]
    },
    {
      "cell_type": "markdown",
      "metadata": {
        "id": "YySP5H70BQcx"
      },
      "source": [
        "#Creación del modelo final\n"
      ]
    },
    {
      "cell_type": "markdown",
      "metadata": {
        "id": "oo0aRSmoOz6s"
      },
      "source": [
        "<font color='green'>**Pregunta 9 (1 puntos): \tA estas alturas ya te habrás dado cuenta que los Transformer que has utilizado en la asignatura de Procesamiento de Lenguaje Natural son, probablemente, los que mejores resultados obtienen. Sin utilizar Transformer, crea un modelo tú, bien ajustando los hiperparámetros de los modelos anteriores o uno completamente nuevo, que llegue al menos al 72% accuracy**</font>"
      ]
    },
    {
      "cell_type": "code",
      "execution_count": 43,
      "metadata": {
        "id": "Dyy9CPpCGmbL"
      },
      "outputs": [],
      "source": [
        "from tensorflow.keras import layers, models\n",
        " \n",
        "# Definir la longitud máxima de las secuencias de entrada\n",
        "sequence_length = x_train.shape[1]\n",
        " \n",
        "# Crear el modelo\n",
        "model = models.Sequential()\n",
        "model.add(layers.Embedding(num_tokens, embedding_dim, input_length=sequence_length))\n",
        "model.add(layers.Flatten())\n",
        "model.add(layers.Dense(128, activation='relu'))\n",
        "model.add(layers.Dropout(0.2))\n",
        "model.add(layers.Dense(len(class_names), activation='softmax'))"
      ]
    },
    {
      "cell_type": "code",
      "execution_count": 46,
      "metadata": {
        "colab": {
          "base_uri": "https://localhost:8080/"
        },
        "id": "LpibJtBfqghD",
        "outputId": "224f1d58-b3a9-442a-c7bd-eeb1faa90bb4"
      },
      "outputs": [
        {
          "output_type": "stream",
          "name": "stdout",
          "text": [
            "Epoch 1/20\n",
            "250/250 [==============================] - 44s 167ms/step - loss: 0.0795 - accuracy: 0.9681 - val_loss: 1.3766 - val_accuracy: 0.6237\n",
            "Epoch 2/20\n",
            "250/250 [==============================] - 23s 93ms/step - loss: 0.0645 - accuracy: 0.9699 - val_loss: 1.3655 - val_accuracy: 0.6292\n",
            "Epoch 3/20\n",
            "250/250 [==============================] - 14s 54ms/step - loss: 0.0628 - accuracy: 0.9698 - val_loss: 1.3646 - val_accuracy: 0.6327\n",
            "Epoch 4/20\n",
            "250/250 [==============================] - 10s 41ms/step - loss: 0.0624 - accuracy: 0.9687 - val_loss: 1.3589 - val_accuracy: 0.6354\n",
            "Epoch 5/20\n",
            "250/250 [==============================] - 6s 23ms/step - loss: 0.0647 - accuracy: 0.9685 - val_loss: 1.3421 - val_accuracy: 0.6394\n",
            "Epoch 6/20\n",
            "250/250 [==============================] - 7s 30ms/step - loss: 0.0608 - accuracy: 0.9689 - val_loss: 1.3495 - val_accuracy: 0.6374\n",
            "Epoch 7/20\n",
            "250/250 [==============================] - 4s 15ms/step - loss: 0.0581 - accuracy: 0.9703 - val_loss: 1.3566 - val_accuracy: 0.6414\n",
            "Epoch 8/20\n",
            "250/250 [==============================] - 5s 18ms/step - loss: 0.0566 - accuracy: 0.9703 - val_loss: 1.3520 - val_accuracy: 0.6407\n",
            "Epoch 9/20\n",
            "250/250 [==============================] - 4s 18ms/step - loss: 0.0576 - accuracy: 0.9697 - val_loss: 1.3472 - val_accuracy: 0.6414\n",
            "Epoch 10/20\n",
            "250/250 [==============================] - 3s 12ms/step - loss: 0.0561 - accuracy: 0.9707 - val_loss: 1.3436 - val_accuracy: 0.6427\n",
            "Epoch 11/20\n",
            "250/250 [==============================] - 3s 12ms/step - loss: 0.0554 - accuracy: 0.9699 - val_loss: 1.3300 - val_accuracy: 0.6522\n",
            "Epoch 12/20\n",
            "250/250 [==============================] - 3s 12ms/step - loss: 0.0555 - accuracy: 0.9691 - val_loss: 1.3367 - val_accuracy: 0.6462\n",
            "Epoch 13/20\n",
            "250/250 [==============================] - 4s 16ms/step - loss: 0.0551 - accuracy: 0.9707 - val_loss: 1.3320 - val_accuracy: 0.6512\n",
            "Epoch 14/20\n",
            "250/250 [==============================] - 2s 7ms/step - loss: 0.0542 - accuracy: 0.9695 - val_loss: 1.3417 - val_accuracy: 0.6464\n",
            "Epoch 15/20\n",
            "250/250 [==============================] - 3s 11ms/step - loss: 0.0524 - accuracy: 0.9709 - val_loss: 1.3450 - val_accuracy: 0.6457\n",
            "Epoch 16/20\n",
            "250/250 [==============================] - 2s 9ms/step - loss: 0.0521 - accuracy: 0.9707 - val_loss: 1.3228 - val_accuracy: 0.6557\n",
            "Epoch 17/20\n",
            "250/250 [==============================] - 3s 13ms/step - loss: 0.0520 - accuracy: 0.9707 - val_loss: 1.3262 - val_accuracy: 0.6539\n",
            "Epoch 18/20\n",
            "250/250 [==============================] - 2s 9ms/step - loss: 0.0518 - accuracy: 0.9721 - val_loss: 1.3113 - val_accuracy: 0.6554\n",
            "Epoch 19/20\n",
            "250/250 [==============================] - 3s 11ms/step - loss: 0.0527 - accuracy: 0.9699 - val_loss: 1.3162 - val_accuracy: 0.6549\n",
            "Epoch 20/20\n",
            "250/250 [==============================] - 2s 9ms/step - loss: 0.0503 - accuracy: 0.9696 - val_loss: 1.3074 - val_accuracy: 0.6604\n",
            "125/125 [==============================] - 0s 2ms/step\n"
          ]
        }
      ],
      "source": [
        "# Compilar el modelo\n",
        "model.compile(optimizer='adamax', loss='sparse_categorical_crossentropy', metrics=['accuracy'])\n",
        "\n",
        "# Resumen del modelo\n",
        "# model.summary()\n",
        "\n",
        "# Entrenar el modelo\n",
        "history = model.fit(x_train, y_train, batch_size=64, epochs=20, validation_data=(x_val, y_val))\n",
        "\n",
        "# Obtener las predicciones\n",
        "predictions = model.predict(x_val)"
      ]
    },
    {
      "cell_type": "code",
      "execution_count": 48,
      "metadata": {
        "colab": {
          "base_uri": "https://localhost:8080/"
        },
        "id": "h4xxecxTsX8P",
        "outputId": "a13d6e7b-3538-4d4c-f3a6-5fb985edd1f6"
      },
      "outputs": [
        {
          "output_type": "stream",
          "name": "stdout",
          "text": [
            "125/125 [==============================] - 0s 2ms/step - loss: 1.3074 - accuracy: 0.6604\n"
          ]
        },
        {
          "output_type": "execute_result",
          "data": {
            "text/plain": [
              "[1.307353138923645, 0.6604151129722595]"
            ]
          },
          "metadata": {},
          "execution_count": 48
        }
      ],
      "source": [
        "model.evaluate(x_val, y_val)"
      ]
    }
  ],
  "metadata": {
    "accelerator": "GPU",
    "colab": {
      "gpuType": "T4",
      "provenance": []
    },
    "kernelspec": {
      "display_name": "Python 3",
      "name": "python3"
    },
    "language_info": {
      "codemirror_mode": {
        "name": "ipython",
        "version": 3
      },
      "file_extension": ".py",
      "mimetype": "text/x-python",
      "name": "python",
      "nbconvert_exporter": "python",
      "pygments_lexer": "ipython3",
      "version": "3.10.6"
    }
  },
  "nbformat": 4,
  "nbformat_minor": 0
}